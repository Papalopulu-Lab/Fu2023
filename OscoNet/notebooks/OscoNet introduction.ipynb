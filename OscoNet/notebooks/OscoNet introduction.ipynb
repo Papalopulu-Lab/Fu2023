{
 "cells": [
  {
   "cell_type": "markdown",
   "metadata": {},
   "source": [
    "# OscoNet: Inferring oscillatory gene networks\n",
    "\n",
    "This notebook provides an introduction to the bootstrap hypothesis test described in more detaild in the [paper](https://www.biorxiv.org/content/10.1101/600049v1).\n"
   ]
  },
  {
   "cell_type": "code",
   "execution_count": 1,
   "metadata": {},
   "outputs": [],
   "source": [
    "%matplotlib inline\n",
    "from OscopeBootstrap import qvalue\n",
    "from OscopeBootstrap.create_edge_network_represention import create_edge_network_representation\n",
    "from OscopeBootstrap.SyntheticDataset import GetSimISyntheticData, true_adj_matrix\n",
    "from OscopeBootstrap.oscope_tf import bootstrap_hypothesis_test, get_accuracy, get_metrics_for_different_qvalue_thresholds\n",
    "from matplotlib import pyplot as plt\n",
    "import numpy as np"
   ]
  },
  {
   "cell_type": "markdown",
   "metadata": {},
   "source": [
    "### First create a synthetic dataset containing one group of co-oscillating genes"
   ]
  },
  {
   "cell_type": "code",
   "execution_count": 2,
   "metadata": {},
   "outputs": [
    {
     "name": "stdout",
     "output_type": "stream",
     "text": [
      "I am in group 2\n",
      "NG = 10\n",
      "White noise from 40\n"
     ]
    }
   ],
   "source": [
    "NG = 10  # half gene cluster size so we have a total of 10 co-oscillating genes  \n",
    "G = 80  # number of genes\n",
    "N = 1000 # cells\n",
    "ngroups = 2 # one cluster\n",
    "data_df, phaseG, angularSpeed = GetSimISyntheticData(NG=NG, G=G, ngroups=ngroups, N=N, noiseLevel=0)\n",
    "adjacency_matrix_true = true_adj_matrix(G, angularSpeed)  # True adjacency matrix"
   ]
  },
  {
   "cell_type": "code",
   "execution_count": 3,
   "metadata": {},
   "outputs": [],
   "source": [
    "ppp=data_df.iloc\n"
   ]
  },
  {
   "cell_type": "code",
   "execution_count": 4,
   "metadata": {},
   "outputs": [
    {
     "data": {
      "text/plain": [
       "10"
      ]
     },
     "execution_count": 4,
     "metadata": {},
     "output_type": "execute_result"
    }
   ],
   "source": [
    "NG\n"
   ]
  },
  {
   "cell_type": "markdown",
   "metadata": {},
   "source": [
    "### Show an example of each type of gene expression in the synthetic data\n",
    "1. Strong oscillator which has little noise\n",
    "1. Weak oscillator with higher noise\n",
    "1. White noise gene (no oscillation)\n",
    "For more information on how these are generate see the docstring for `GetSimISyntheticData` and the supplementary material\n",
    "of the original [Oscope paper](https://www.nature.com/articles/nmeth.3549)."
   ]
  },
  {
   "cell_type": "code",
   "execution_count": 5,
   "metadata": {},
   "outputs": [
    {
     "data": {
      "text/plain": [
       "Text(0.5, 1.0, 'white noise gene')"
      ]
     },
     "execution_count": 5,
     "metadata": {},
     "output_type": "execute_result"
    },
    {
     "data": {
      "image/png": "[encoded data removed]",
      "text/plain": [
       "<Figure size 432x288 with 3 Axes>"
      ]
     },
     "metadata": {
      "needs_background": "light"
     },
     "output_type": "display_data"
    }
   ],
   "source": [
    "_, ax = plt.subplots(3, sharex=True, sharey=True)\n",
    "ax[0].plot(np.arange(N), data_df.iloc[0, :], 'bo'); ax[0].set_title('strong oscillator')\n",
    "ax[1].plot(np.arange(N), data_df.iloc[NG, :], 'bo'); ax[1].set_title('weak-noisy oscillator')\n",
    "ax[2].plot(np.arange(N), data_df.iloc[2*NG, :], 'bo'); ax[2].set_title('white noise gene')"
   ]
  },
  {
   "cell_type": "markdown",
   "metadata": {},
   "source": [
    "### Apply the hypothesis test\n",
    "This can take 30seconds - 1 minute depending on your hardware."
   ]
  },
  {
   "cell_type": "code",
   "execution_count": 7,
   "metadata": {},
   "outputs": [
    {
     "name": "stderr",
     "output_type": "stream",
     "text": [
      "c:\\users\\staalcu\\gitrepositories\\elli\\fullosconet\\OscopeBootstrap\\oscope_tf.py:222: RuntimeWarning: invalid value encountered in multiply\n",
      "  psi_ng = np.zeros((G, G)) * np.inf\n"
     ]
    },
    {
     "name": "stdout",
     "output_type": "stream",
     "text": [
      "find_best_psi_for_each_gene_pair 0 secs\n",
      "get_permuted_cost 2 secs\n",
      "get_pvalues 0 secs\n",
      "qvalues pi0=0.797, estimated proportion of null features \n"
     ]
    }
   ],
   "source": [
    "n_bootstrap = 100  # number of bootstrap samples\n",
    "grid_points_in_search = 10  # grid size for phase shift parameter estimation., \n",
    "alpha = 0.001  # significance level\n",
    "adjacency_matrix, qvalues, cost_matrix, psimat = bootstrap_hypothesis_test(n_bootstrap, data_df.values, alpha=alpha,\n",
    "                                                            grid_points_in_search=grid_points_in_search)\n"
   ]
  },
  {
   "cell_type": "markdown",
   "metadata": {},
   "source": [
    "### Calculate diagnostics"
   ]
  },
  {
   "cell_type": "code",
   "execution_count": 8,
   "metadata": {},
   "outputs": [
    {
     "name": "stdout",
     "output_type": "stream",
     "text": [
      "Ratio of correctly identified pairs 0.99\n",
      "True positive rate 1.00, False discovery rate 0.08\n"
     ]
    }
   ],
   "source": [
    "correct_ratio = get_accuracy(adjacency_matrix, adjacency_matrix_true)\n",
    "print(f'Ratio of correctly identified pairs {correct_ratio:.2f}')\n",
    "\n",
    "TPR, FDR, _ = get_metrics_for_different_qvalue_thresholds(qvalues, adjacency_matrix_true, np.array([alpha]))\n",
    "print(f'True positive rate {float(TPR):.2f}, False discovery rate {float(FDR):.2f}')"
   ]
  },
  {
   "cell_type": "markdown",
   "metadata": {},
   "source": [
    "### Show true and estimated adjacency matrices\n",
    "The matrix shown 20 X 20 as we have G=20 genes in our example.\n",
    "Each entry (i, j) shows if gene i is found to be co-oscillating with gene j."
   ]
  },
  {
   "cell_type": "code",
   "execution_count": 9,
   "metadata": {},
   "outputs": [
    {
     "data": {
      "text/plain": [
       "Text(0.5, 1.0, 'estimated adjacency matrix')"
      ]
     },
     "execution_count": 9,
     "metadata": {},
     "output_type": "execute_result"
    },
    {
     "data": {
      "image/png": "[encoded data removed]",
      "text/plain": [
       "<Figure size 1440x504 with 2 Axes>"
      ]
     },
     "metadata": {
      "needs_background": "light"
     },
     "output_type": "display_data"
    }
   ],
   "source": [
    "_, ax = plt.subplots(1, 2, figsize=(20, 7))\n",
    "ax[0].imshow(adjacency_matrix_true); ax[0].set_title('true adjacency matrix')\n",
    "ax[1].imshow(adjacency_matrix); ax[1].set_title('estimated adjacency matrix')"
   ]
  },
  {
   "cell_type": "markdown",
   "metadata": {},
   "source": [
    "We can see the hypothesis test correctly identifies the cluster whilst also having false positives."
   ]
  },
  {
   "cell_type": "markdown",
   "metadata": {},
   "source": [
    "### Calculate edge network representation needed for network analysis\n",
    "This creates a dataframe with 3 columns, the gene names of all significant pairs and the cost of that interaction. The cost is defined in Equation (1) in the paper - the smaller, the stronger the interaction. \n",
    "This edge network can then be passed in to the network analysis code. The cost value may be interpreted as a weight in the graph and hence we pass in the reciprocal of the `cost_matrix`. The user could also pass in `qvalues` instead of the `cost_matrix` to obtain a weight based on value."
   ]
  },
  {
   "cell_type": "code",
   "execution_count": 10,
   "metadata": {},
   "outputs": [
    {
     "name": "stdout",
     "output_type": "stream",
     "text": [
      "Sparseness 0.131013\n"
     ]
    }
   ],
   "source": [
    "gene_names = [f'gene{i}' for i in range(G)]\n",
    "edge_network = create_edge_network_representation(adjacency_matrix, 1/cost_matrix, gene_names)"
   ]
  },
  {
   "cell_type": "code",
   "execution_count": 11,
   "metadata": {},
   "outputs": [
    {
     "data": {
      "text/html": [
       "<div>\n",
       "<style scoped>\n",
       "    .dataframe tbody tr th:only-of-type {\n",
       "        vertical-align: middle;\n",
       "    }\n",
       "\n",
       "    .dataframe tbody tr th {\n",
       "        vertical-align: top;\n",
       "    }\n",
       "\n",
       "    .dataframe thead th {\n",
       "        text-align: right;\n",
       "    }\n",
       "</style>\n",
       "<table border=\"1\" class=\"dataframe\">\n",
       "  <thead>\n",
       "    <tr style=\"text-align: right;\">\n",
       "      <th></th>\n",
       "      <th>gene1</th>\n",
       "      <th>gene2</th>\n",
       "      <th>weight</th>\n",
       "    </tr>\n",
       "  </thead>\n",
       "  <tbody>\n",
       "    <tr>\n",
       "      <th>0</th>\n",
       "      <td>gene0</td>\n",
       "      <td>gene1</td>\n",
       "      <td>0.066691</td>\n",
       "    </tr>\n",
       "    <tr>\n",
       "      <th>1</th>\n",
       "      <td>gene0</td>\n",
       "      <td>gene2</td>\n",
       "      <td>0.016120</td>\n",
       "    </tr>\n",
       "    <tr>\n",
       "      <th>2</th>\n",
       "      <td>gene0</td>\n",
       "      <td>gene3</td>\n",
       "      <td>0.091252</td>\n",
       "    </tr>\n",
       "    <tr>\n",
       "      <th>3</th>\n",
       "      <td>gene0</td>\n",
       "      <td>gene4</td>\n",
       "      <td>0.061772</td>\n",
       "    </tr>\n",
       "    <tr>\n",
       "      <th>4</th>\n",
       "      <td>gene0</td>\n",
       "      <td>gene5</td>\n",
       "      <td>0.012955</td>\n",
       "    </tr>\n",
       "    <tr>\n",
       "      <th>...</th>\n",
       "      <td>...</td>\n",
       "      <td>...</td>\n",
       "      <td>...</td>\n",
       "    </tr>\n",
       "    <tr>\n",
       "      <th>409</th>\n",
       "      <td>gene43</td>\n",
       "      <td>gene53</td>\n",
       "      <td>0.000195</td>\n",
       "    </tr>\n",
       "    <tr>\n",
       "      <th>410</th>\n",
       "      <td>gene46</td>\n",
       "      <td>gene56</td>\n",
       "      <td>0.000213</td>\n",
       "    </tr>\n",
       "    <tr>\n",
       "      <th>411</th>\n",
       "      <td>gene48</td>\n",
       "      <td>gene55</td>\n",
       "      <td>0.000203</td>\n",
       "    </tr>\n",
       "    <tr>\n",
       "      <th>412</th>\n",
       "      <td>gene49</td>\n",
       "      <td>gene58</td>\n",
       "      <td>0.000192</td>\n",
       "    </tr>\n",
       "    <tr>\n",
       "      <th>413</th>\n",
       "      <td>gene59</td>\n",
       "      <td>gene63</td>\n",
       "      <td>0.000210</td>\n",
       "    </tr>\n",
       "  </tbody>\n",
       "</table>\n",
       "<p>414 rows × 3 columns</p>\n",
       "</div>"
      ],
      "text/plain": [
       "      gene1   gene2    weight\n",
       "0     gene0   gene1  0.066691\n",
       "1     gene0   gene2  0.016120\n",
       "2     gene0   gene3  0.091252\n",
       "3     gene0   gene4  0.061772\n",
       "4     gene0   gene5  0.012955\n",
       "..      ...     ...       ...\n",
       "409  gene43  gene53  0.000195\n",
       "410  gene46  gene56  0.000213\n",
       "411  gene48  gene55  0.000203\n",
       "412  gene49  gene58  0.000192\n",
       "413  gene59  gene63  0.000210\n",
       "\n",
       "[414 rows x 3 columns]"
      ]
     },
     "execution_count": 11,
     "metadata": {},
     "output_type": "execute_result"
    }
   ],
   "source": [
    "edge_network"
   ]
  },
  {
   "cell_type": "code",
   "execution_count": null,
   "metadata": {},
   "outputs": [],
   "source": []
  }
 ],
 "metadata": {
  "kernelspec": {
   "display_name": "Python 3",
   "language": "python",
   "name": "python3"
  },
  "language_info": {
   "codemirror_mode": {
    "name": "ipython",
    "version": 3
   },
   "file_extension": ".py",
   "mimetype": "text/x-python",
   "name": "python",
   "nbconvert_exporter": "python",
   "pygments_lexer": "ipython3",
   "version": "3.8.3"
  }
 },
 "nbformat": 4,
 "nbformat_minor": 4
}
