{
 "cells": [
  {
   "cell_type": "markdown",
   "metadata": {},
   "source": [
    "# Explorig the effects of linearity in OscoNet\n"
   ]
  },
  {
   "cell_type": "code",
   "execution_count": 1,
   "metadata": {},
   "outputs": [],
   "source": [
    "%matplotlib inline\n",
    "from OscopeBootstrap import qvalue\n",
    "from OscopeBootstrap.create_edge_network_represention import create_edge_network_representation\n",
    "from OscopeBootstrap.SyntheticDataset import GetSimISyntheticData, true_adj_matrix\n",
    "from OscopeBootstrap.oscope_tf import bootstrap_hypothesis_test, get_accuracy, get_metrics_for_different_qvalue_thresholds2, get_metrics_for_different_qvalue_thresholds\n",
    "from matplotlib import pyplot as plt\n",
    "import numpy as np\n",
    "import pandas as pd\n",
    "from typing import Tuple\n",
    "\n"
   ]
  },
  {
   "cell_type": "code",
   "execution_count": 3,
   "metadata": {},
   "outputs": [
    {
     "data": {
      "text/plain": [
       "4.0"
      ]
     },
     "execution_count": 3,
     "metadata": {},
     "output_type": "execute_result"
    }
   ],
   "source": [
    "np.round(3.6)"
   ]
  },
  {
   "cell_type": "markdown",
   "metadata": {},
   "source": [
    "## Define a function to simulate perfect oscillators - liner dependency"
   ]
  },
  {
   "cell_type": "code",
   "execution_count": 4,
   "metadata": {},
   "outputs": [],
   "source": [
    "def GetSimLinearData(NG: int = 15, G: int = 1000, N: int = 100, noiseLevel: int = 0, ngroups: int = 3) \\\n",
    "        -> Tuple[pd.DataFrame, np.ndarray, np.ndarray]:\n",
    "\n",
    "    '''\n",
    "    Generate synthetic data.\n",
    "   :param NG: half-size of each gene group. For example =3, each group will have 6 co-oscillating genes. 3 of them\n",
    "   will be strong oscillators and 3 weak (double the noise)\n",
    "   :param G: number of total genes\n",
    "   :param N: number of cells\n",
    "   :param noiseLevel: noise level index (0 to 5 index)\n",
    "   :param ngroups: number of groups\n",
    "   :return: dataframe of data of shape (G X G), numpy arrays of true phase and angular\n",
    "   speed, each a vector of size G\n",
    "\n",
    "    Reproduced from the original Oscope paper\n",
    "    https://www.nature.com/articles/nmeth.3549\n",
    "\n",
    "    We include below the original description from the supplementary material of that paper:\n",
    "    Sim I: Oscope paper supplementary\n",
    "    1,000 genes and 100 cells.  90 out of the 1,000 genes\n",
    "    were  simulated  as  oscillators.\n",
    "    The  90  oscillators  were  simulated  in  3  frequency  groups,  each\n",
    "    group contains 30 genes.\n",
    "\n",
    "     Group 1 and 3 following the same  order,  while  genes  in  group  2  following  another  order.   In\n",
    "    Sim  I ,  the  relative  speeds  of the  3  groups  are  proportional  to  2:3:6.\n",
    "\n",
    "    Within each frequency group, genes were further simulated with strong and weak signals.\n",
    "    Half of the oscillatory genes were simulated as strong oscillators with sigma_g = sigm_str . The other half\n",
    "    were simulated as weak oscillators with sigma_g = sigma_wk = 2sigma_str .\n",
    "\n",
    "    Starting phase phi_g varies in different genes within a frequency group.\n",
    "    *****************\n",
    "    We here fix the startingphase for the first two groups, whithin the same group for Group 1 and 2, to test for linearty! \n",
    "    So no phase shift, but perfect oscillators. Group 3 will have phase shift fr bot strong and weak oscillators.\n",
    "    ****************\n",
    "    The remaining genes except the oscillators are called noise\n",
    "    genes. Noise genes were simulated as random Gaussian noise. The noise level was adjusted to\n",
    "    be comparable to the average noise signal among all oscillators.\n",
    "\n",
    "    Simulation study\n",
    "    the sigma_str varies from 0.05 to 0.4 in 5 steps.\n",
    "    '''\n",
    "    assert ngroups <= 3, 'Only 3 groups implemented'\n",
    "    # Construct oscillatory groups\n",
    "    sigma_strLevel = [0.05, 0.1, 0.2, 0.3, 0.4, 0.6]\n",
    "    sigma_str = sigma_strLevel[noiseLevel]\n",
    "\n",
    "    # two different orders\n",
    "    t1 = np.linspace(0, 2*np.pi, N)\n",
    "    t2 = np.random.permutation(t1)\n",
    "\n",
    "    data = np.zeros((G, N))\n",
    "    data[:] = np.nan\n",
    "    # genes per weak/strong oscillatory group\n",
    "    # Group 1\n",
    "    cellName = []\n",
    "    for i in range(N):\n",
    "        cellName.append('C'+str(i))\n",
    "\n",
    "    geneName = []\n",
    "\n",
    "    phaseG = np.zeros((G))\n",
    "    angularSpeed = np.zeros((G))\n",
    "    \n",
    "    startingPhase = np.random.uniform(0, 2*np.pi)\n",
    "    print('I am in group 1')\n",
    "    print('NG = {0}'.format(NG))\n",
    "    for i in range(NG):  # strong oscillators\n",
    "        #Group 1\n",
    "        \n",
    "        phaseG[i] = startingPhase\n",
    "        angularSpeed[i] = 2\n",
    "        data[i, :] = np.sin(2*t1 + startingPhase) + sigma_str*np.random.randn(N)\n",
    "        geneName.append('G1SO'+str(i))\n",
    "    startingPhase = np.random.uniform(0, 2*np.pi)\n",
    "    for i in range(NG, 2*NG):  # weak oscillators\n",
    "        phaseG[i] = startingPhase\n",
    "        angularSpeed[i] = 2\n",
    "        data[i, :] = np.sin(2*t1 + startingPhase) + 2*sigma_str*np.random.randn(N)\n",
    "        geneName.append('G1WO'+str(i))\n",
    "    if(ngroups >= 2):\n",
    "        # Group 2\n",
    "        print('I am in group 2')\n",
    "        startingPhase = np.random.uniform(0, 2*np.pi)\n",
    "        for i in range(2*NG, 3*NG):  # strong oscillators\n",
    "            phaseG[i] = startingPhase\n",
    "            angularSpeed[i] = 3\n",
    "            data[i, :] = np.sin(3*t2 + startingPhase) + sigma_str*np.random.randn(N)\n",
    "            geneName.append('G2SO'+str(i))\n",
    "        startingPhase = np.random.uniform(0, 2*np.pi)\n",
    "        for i in range(3*NG, 4*NG):  # weak oscillators\n",
    "            phaseG[i] = startingPhase\n",
    "            angularSpeed[i] = 3\n",
    "            data[i, :] = np.sin(3*t2 + startingPhase) + 2*sigma_str*np.random.randn(N)\n",
    "            geneName.append('G2WO'+str(i))\n",
    "    if(ngroups >= 3):\n",
    "        print('I am in group 3')\n",
    "\n",
    "        # Group 3\n",
    "        for i in range(4*NG, 5*NG):  # strong oscillators\n",
    "            startingPhase = np.random.uniform(0, 2*np.pi)\n",
    "            phaseG[i] = startingPhase\n",
    "            angularSpeed[i] = 4\n",
    "            data[i, :] = np.sin(4*t1 + startingPhase) + sigma_str*np.random.randn(N)\n",
    "            geneName.append('G3SO'+str(i))\n",
    "        for i in range(5*NG, 6*NG):  # weak oscillators\n",
    "            startingPhase = np.random.uniform(0, 2*np.pi)\n",
    "            phaseG[i] = startingPhase\n",
    "            angularSpeed[i] = 4\n",
    "            data[i, :] = np.sin(4*t1 + startingPhase) + 2*sigma_str*np.random.randn(N)\n",
    "            geneName.append('G3WO'+str(i))\n",
    "    print('White noise from {0}'.format(i+1))\n",
    "    # white noise genes\n",
    "    for w in range(i+1, G):  # use i index from above where it stopped\n",
    "        phaseG[w] = np.nan\n",
    "        angularSpeed[w] = np.nan\n",
    "        data[w, :] = np.max([3/2 * sigma_str, 1]) * np.random.randn(N)\n",
    "        geneName.append('R'+str(w))\n",
    "\n",
    "    assert np.all(~ np.isnan(data)), 'Entries with nans!'\n",
    "    print(len(geneName))# == G\n",
    "    assert len(cellName) == N\n",
    "    df = pd.DataFrame(data, index=geneName, columns=cellName)\n",
    "    return df, phaseG, angularSpeed  # return GXN matrix\n",
    "\n"
   ]
  },
  {
   "cell_type": "code",
   "execution_count": 54,
   "metadata": {},
   "outputs": [],
   "source": [
    "def GetSimLinearDataWithGaps(NG: int = 15, G: int = 1000, Norig: int = 100, noiseLevel: int = 0, ngroups: int = 3, missing: float=0.2) \\\n",
    "        -> Tuple[pd.DataFrame, np.ndarray, np.ndarray]:\n",
    "\n",
    "    '''\n",
    "    Generate synthetic data.\n",
    "   :param NG: half-size of each gene group. For example =3, each group will have 6 co-oscillating genes. 3 of them\n",
    "   will be strong oscillators and 3 weak (double the noise)\n",
    "   :param G: number of total genes\n",
    "   :param N: number of cells\n",
    "   :param noiseLevel: noise level index (0 to 5 index)\n",
    "   :param ngroups: number of groups\n",
    "   :param missing: pecentage of missing values. Default 0.2\n",
    "   :return: dataframe of data of shape (G X G), numpy arrays of true phase and angular\n",
    "   speed, each a vector of size G\n",
    "\n",
    "    Reproduced from the original Oscope paper\n",
    "    https://www.nature.com/articles/nmeth.3549\n",
    "\n",
    "    We include below the original description from the supplementary material of that paper:\n",
    "    Sim I: Oscope paper supplementary\n",
    "    1,000 genes and 100 cells.  90 out of the 1,000 genes\n",
    "    were  simulated  as  oscillators.\n",
    "    The  90  oscillators  were  simulated  in  3  frequency  groups,  each\n",
    "    group contains 30 genes.\n",
    "\n",
    "     Group 1 and 3 following the same  order,  while  genes  in  group  2  following  another  order.   In\n",
    "    Sim  I ,  the  relative  speeds  of the  3  groups  are  proportional  to  2:3:6.\n",
    "\n",
    "    Within each frequency group, genes were further simulated with strong and weak signals.\n",
    "    Half of the oscillatory genes were simulated as strong oscillators with sigma_g = sigm_str . The other half\n",
    "    were simulated as weak oscillators with sigma_g = sigma_wk = 2sigma_str .\n",
    "\n",
    "    Starting phase phi_g varies in different genes within a frequency group.\n",
    "    *****************\n",
    "    We here fix the startingphase for the first two groups, whithin the same group for Group 1 and 2, to test for linearty! \n",
    "    So no phase shift, but perfect oscillators. Group 3 will have phase shift fr bot strong and weak oscillators.\n",
    "    ****************\n",
    "    The remaining genes except the oscillators are called noise\n",
    "    genes. Noise genes were simulated as random Gaussian noise. The noise level was adjusted to\n",
    "    be comparable to the average noise signal among all oscillators.\n",
    "\n",
    "    Simulation study\n",
    "    the sigma_str varies from 0.05 to 0.4 in 5 steps.\n",
    "    '''\n",
    "    assert ngroups <= 3, 'Only 3 groups implemented'\n",
    "    # Construct oscillatory groups\n",
    "    sigma_strLevel = [0.05, 0.1, 0.2, 0.3, 0.4, 0.6]\n",
    "    sigma_str = sigma_strLevel[noiseLevel]\n",
    "    perc=1-missing #percent of values TO KEEP\n",
    "    # two different orders\n",
    "    t1orig = np.linspace(0, 2*np.pi, Norig)\n",
    "    N=np.round(0.8*Norig).astype(int)\n",
    "    t1=np.random.choice(t1orig,N,replace=False)\n",
    "    t1=np.sort(t1)\n",
    "    t2 = np.random.permutation(t1)\n",
    "\n",
    "    data = np.zeros((G, N))\n",
    "    data[:] = np.nan\n",
    "    # genes per weak/strong oscillatory group\n",
    "    # Group 1\n",
    "    cellName = []\n",
    "    for i in range(N):\n",
    "        cellName.append('C'+str(i))\n",
    "\n",
    "    geneName = []\n",
    "\n",
    "    phaseG = np.zeros((G))\n",
    "    angularSpeed = np.zeros((G))\n",
    "    \n",
    "    startingPhase = np.random.uniform(0, 2*np.pi)\n",
    "    print('I am in group 1')\n",
    "    print('NG = {0}'.format(NG))\n",
    "    for i in range(NG):  # strong oscillators\n",
    "        #Group 1\n",
    "        \n",
    "        phaseG[i] = startingPhase\n",
    "        angularSpeed[i] = 2\n",
    "        data[i, :] = np.sin(2*t1 + startingPhase) + sigma_str*np.random.randn(N)\n",
    "        geneName.append('G1SO'+str(i))\n",
    "    startingPhase = np.random.uniform(0, 2*np.pi)\n",
    "    for i in range(NG, 2*NG):  # weak oscillators\n",
    "        phaseG[i] = startingPhase\n",
    "        angularSpeed[i] = 2\n",
    "        data[i, :] = np.sin(2*t1 + startingPhase) + 2*sigma_str*np.random.randn(N)\n",
    "        geneName.append('G1WO'+str(i))\n",
    "    if(ngroups >= 2):\n",
    "        # Group 2\n",
    "        print('I am in group 2')\n",
    "        startingPhase = np.random.uniform(0, 2*np.pi)\n",
    "        for i in range(2*NG, 3*NG):  # strong oscillators\n",
    "            phaseG[i] = startingPhase\n",
    "            angularSpeed[i] = 3\n",
    "            data[i, :] = np.sin(3*t2 + startingPhase) + sigma_str*np.random.randn(N)\n",
    "            geneName.append('G2SO'+str(i))\n",
    "        startingPhase = np.random.uniform(0, 2*np.pi)\n",
    "        for i in range(3*NG, 4*NG):  # weak oscillators\n",
    "            phaseG[i] = startingPhase\n",
    "            angularSpeed[i] = 3\n",
    "            data[i, :] = np.sin(3*t2 + startingPhase) + 2*sigma_str*np.random.randn(N)\n",
    "            geneName.append('G2WO'+str(i))\n",
    "    if(ngroups >= 3):\n",
    "        print('I am in group 3')\n",
    "\n",
    "        # Group 3\n",
    "        for i in range(4*NG, 5*NG):  # strong oscillators\n",
    "            startingPhase = np.random.uniform(0, 2*np.pi)\n",
    "            phaseG[i] = startingPhase\n",
    "            angularSpeed[i] = 4\n",
    "            data[i, :] = np.sin(4*t1 + startingPhase) + sigma_str*np.random.randn(N)\n",
    "            geneName.append('G3SO'+str(i))\n",
    "        for i in range(5*NG, 6*NG):  # weak oscillators\n",
    "            startingPhase = np.random.uniform(0, 2*np.pi)\n",
    "            phaseG[i] = startingPhase\n",
    "            angularSpeed[i] = 4\n",
    "            data[i, :] = np.sin(4*t1 + startingPhase) + 2*sigma_str*np.random.randn(N)\n",
    "            geneName.append('G3WO'+str(i))\n",
    "    print('White noise from {0}'.format(i+1))\n",
    "    # white noise genes\n",
    "    for w in range(i+1, G):  # use i index from above where it stopped\n",
    "        phaseG[w] = np.nan\n",
    "        angularSpeed[w] = np.nan\n",
    "        data[w, :] = np.max([3/2 * sigma_str, 1]) * np.random.randn(N)\n",
    "        geneName.append('R'+str(w))\n",
    "\n",
    "    assert np.all(~ np.isnan(data)), 'Entries with nans!'\n",
    "    print(len(geneName))# == G\n",
    "    assert len(cellName) == N\n",
    "    df = pd.DataFrame(data, index=geneName, columns=cellName)\n",
    "    return df, phaseG, angularSpeed  # return GXN matrix\n",
    "\n"
   ]
  },
  {
   "cell_type": "code",
   "execution_count": 55,
   "metadata": {},
   "outputs": [],
   "source": [
    "def GetSimLinearData2(NG: int = 15, G: int = 1000, N: int = 100, noiseLevel: int = 0, ngroups: int = 3) \\\n",
    "        -> Tuple[pd.DataFrame, np.ndarray, np.ndarray]:\n",
    "\n",
    "    '''\n",
    "    Generate synthetic data.\n",
    "   :param NG: half-size of each gene group. For example =3, each group will have 6 co-oscillating genes. 3 of them\n",
    "   will be strong oscillators and 3 weak (double the noise)\n",
    "   :param G: number of total genes\n",
    "   :param N: number of cells\n",
    "   :param noiseLevel: noise level index (0 to 5 index)\n",
    "   :param ngroups: number of groups\n",
    "   :return: dataframe of data of shape (G X G), numpy arrays of true phase and angular\n",
    "   speed, each a vector of size G\n",
    "\n",
    "    Reproduced from the original Oscope paper\n",
    "    https://www.nature.com/articles/nmeth.3549\n",
    "\n",
    "    We include below the original description from the supplementary material of that paper:\n",
    "    Sim I: Oscope paper supplementary\n",
    "    1,000 genes and 100 cells.  90 out of the 1,000 genes\n",
    "    were  simulated  as  oscillators.\n",
    "    The  90  oscillators  were  simulated  in  3  frequency  groups,  each\n",
    "    group contains 30 genes.\n",
    "\n",
    "     Group 1 and 3 following the same  order,  while  genes  in  group  2  following  another  order.   In\n",
    "    Sim  I ,  the  relative  speeds  of the  3  groups  are  proportional  to  2:3:6.\n",
    "\n",
    "    Within each frequency group, genes were further simulated with strong and weak signals.\n",
    "    Half of the oscillatory genes were simulated as strong oscillators with sigma_g = sigm_str . The other half\n",
    "    were simulated as weak oscillators with sigma_g = sigma_wk = 2sigma_str .\n",
    "\n",
    "    Starting phase phi_g varies in different genes within a frequency group.\n",
    "    *****************\n",
    "    We here fix the startingphase for the first two groups, whithin the same group for Group 1, to test for linearty! \n",
    "    So no phase shift, but perfect oscillators. Group 2 will have phase shift fr bot strong and weak oscillators.\n",
    "    ****************\n",
    "    The remaining genes except the oscillators are called noise\n",
    "    genes. Noise genes were simulated as random Gaussian noise. The noise level was adjusted to\n",
    "    be comparable to the average noise signal among all oscillators.\n",
    "\n",
    "    Simulation study\n",
    "    the sigma_str varies from 0.05 to 0.4 in 5 steps.\n",
    "    '''\n",
    "    assert ngroups <= 2, 'Only 2 groups implemented'\n",
    "    # Construct oscillatory groups\n",
    "    sigma_strLevel = [0.05, 0.1, 0.2, 0.3, 0.4, 0.6]\n",
    "    sigma_str = sigma_strLevel[noiseLevel]\n",
    "\n",
    "    # two different orders\n",
    "    t1 = np.linspace(0, 2*np.pi, N)\n",
    "    t2 = np.random.permutation(t1)\n",
    "\n",
    "    data = np.zeros((G, N))\n",
    "    data[:] = np.nan\n",
    "    # genes per weak/strong oscillatory group\n",
    "    # Group 1\n",
    "    cellName = []\n",
    "    for i in range(N):\n",
    "        cellName.append('C'+str(i))\n",
    "\n",
    "    geneName = []\n",
    "\n",
    "    phaseG = np.zeros((G))\n",
    "    angularSpeed = np.zeros((G))\n",
    "    \n",
    "    print('I am in group 1')\n",
    "    print('NG = {0}'.format(NG))\n",
    "    \n",
    "    startingPhase = np.random.uniform(0, 2*np.pi)\n",
    "    for i in range(NG):  # strong oscillators\n",
    "        #Group 1\n",
    "        phaseG[i] = startingPhase\n",
    "        angularSpeed[i] = 2\n",
    "        data[i, :] = np.sin(2*t1 + startingPhase) + sigma_str*np.random.randn(N)\n",
    "        geneName.append('G1SO'+str(i))\n",
    "    print('Group 1 STRONG in phase oscillators ends at i = {0}'.format(i+1))\n",
    "    startingPhase = np.random.uniform(0, 2*np.pi)\n",
    "    for i in range(NG, 2*NG):  # weak oscillators\n",
    "        phaseG[i] = startingPhase\n",
    "        angularSpeed[i] = 2\n",
    "        data[i, :] = np.sin(2*t1 + startingPhase) + 2*sigma_str*np.random.randn(N)\n",
    "        geneName.append('G1WO'+str(i))\n",
    "    print('Group 1 WEAK in phase oscillators ends at i = {0}'.format(i+1))\n",
    "\n",
    "    if(ngroups >= 2):\n",
    "        # Group 2\n",
    "        print('I am in group 2')\n",
    "        for i in range(2*NG, 3*NG):  # strong oscillators\n",
    "            startingPhase = np.random.uniform(0, 2*np.pi)\n",
    "            phaseG[i] = startingPhase\n",
    "            angularSpeed[i] = 3\n",
    "            data[i, :] = np.sin(3*t2 + startingPhase) + sigma_str*np.random.randn(N)\n",
    "            geneName.append('G2SO'+str(i))\n",
    "        print('Group 2 Strong shifted oscillators ends at i = {0}'.format(i+1))\n",
    "\n",
    "        for i in range(3*NG, 4*NG):  # weak oscillators\n",
    "            startingPhase = np.random.uniform(0, 2*np.pi)\n",
    "            phaseG[i] = startingPhase\n",
    "            angularSpeed[i] = 3\n",
    "            data[i, :] = np.sin(3*t2 + startingPhase) + 2*sigma_str*np.random.randn(N)\n",
    "            geneName.append('G2WO'+str(i))\n",
    "        print('Group 2 Weak shifted oscillators ends at i = {0}'.format(i+1))\n",
    "\n",
    "    print('White noise from {0}'.format(i+1))\n",
    "    # white noise genes\n",
    "    for w in range(i+1, G):  # use i index from above where it stopped\n",
    "        phaseG[w] = np.nan\n",
    "        angularSpeed[w] = np.nan\n",
    "        data[w, :] = np.max([3/2 * sigma_str, 1]) * np.random.randn(N)\n",
    "        geneName.append('R'+str(w))\n",
    "    print('White noise up to {0}'.format(w+1))\n",
    "    print(len(geneName))\n",
    "    assert np.all(~ np.isnan(data)), 'Entries with nans!'\n",
    "    assert len(geneName) == G\n",
    "    assert len(cellName) == N\n",
    "    #print(len(cellName))\n",
    "    df = pd.DataFrame(data, index=geneName, columns=cellName)\n",
    "    return df, phaseG, angularSpeed  # return GXN matrix\n",
    "\n"
   ]
  },
  {
   "cell_type": "markdown",
   "metadata": {},
   "source": [
    "### Create a synthetic dataset containing 2 groups of in phase strong co-oscillating genes, 2 groups of in phase weak co-oscillating genes, 1  group of phase shifted strong co-oscillating genes, 1  group of phase shifted weak co-oscillating genes"
   ]
  },
  {
   "cell_type": "code",
   "execution_count": 56,
   "metadata": {},
   "outputs": [],
   "source": [
    "NG = 10  # half gene cluster size so we have a total of 10 co-oscillating genes  \n",
    "G = 100  # number of genes\n",
    "Norig = 1000 # cells\n",
    "ngroups = 3 # one cluster\n",
    "missing=0.2\n",
    "\n",
    "#GetSimLinearDataWithGaps#"
   ]
  },
  {
   "cell_type": "code",
   "execution_count": 57,
   "metadata": {},
   "outputs": [
    {
     "name": "stdout",
     "output_type": "stream",
     "text": [
      "I am in group 1\n",
      "NG = 10\n",
      "I am in group 2\n",
      "I am in group 3\n",
      "White noise from 60\n",
      "100\n"
     ]
    }
   ],
   "source": [
    "#data_df, phaseG, angularSpeed = GetSimLinearData(NG=NG, G=G, ngroups=ngroups, N=N, noiseLevel=0)\n",
    "data_df, phaseG, angularSpeed = GetSimLinearDataWithGaps(NG=NG, G=G, ngroups=ngroups, Norig=Norig, noiseLevel=0,missing=missing)\n"
   ]
  },
  {
   "cell_type": "code",
   "execution_count": 58,
   "metadata": {},
   "outputs": [
    {
     "data": {
      "text/plain": [
       "800"
      ]
     },
     "execution_count": 58,
     "metadata": {},
     "output_type": "execute_result"
    }
   ],
   "source": [
    "N=data_df.shape[1]\n",
    "N"
   ]
  },
  {
   "cell_type": "code",
   "execution_count": 59,
   "metadata": {
    "scrolled": true
   },
   "outputs": [
    {
     "data": {
      "text/plain": [
       "Text(0.5, 1.0, 'white noise gene')"
      ]
     },
     "execution_count": 59,
     "metadata": {},
     "output_type": "execute_result"
    },
    {
     "data": {
      "image/png": "[encoded data removed]",
      "text/plain": [
       "<Figure size 432x288 with 7 Axes>"
      ]
     },
     "metadata": {
      "needs_background": "light"
     },
     "output_type": "display_data"
    }
   ],
   "source": [
    "adjacency_matrix_true = true_adj_matrix(G, angularSpeed)  # True adjacency matrix\n",
    "_, ax = plt.subplots(7, sharex=True, sharey=True)\n",
    "ax[0].plot(np.arange(N), data_df.iloc[0, :], 'bo'); ax[0].set_title('strong oscillator in phase')\n",
    "ax[1].plot(np.arange(N), data_df.iloc[NG, :], 'bo'); ax[1].set_title('weak-noisy oscillator in phase')\n",
    "ax[2].plot(np.arange(N), data_df.iloc[2*NG, :], 'bo'); ax[2].set_title('strong oscillator in phase with pemuted times')\n",
    "ax[3].plot(np.arange(N), data_df.iloc[3*NG, :], 'bo'); ax[3].set_title('weak-noisy oscillator in phase with permuted times')\n",
    "ax[4].plot(np.arange(N), data_df.iloc[4*NG, :], 'bo'); ax[4].set_title('strong oscillator shifted')\n",
    "ax[5].plot(np.arange(N), data_df.iloc[5*NG, :], 'bo'); ax[5].set_title('weak oscillator shifted')\n",
    "ax[6].plot(np.arange(N), data_df.iloc[6*NG, :], 'bo'); ax[6].set_title('white noise gene')"
   ]
  },
  {
   "cell_type": "code",
   "execution_count": 60,
   "metadata": {},
   "outputs": [
    {
     "name": "stderr",
     "output_type": "stream",
     "text": [
      "/Users/luisacutillo/GitProjects/Elli/FullOscoNet/OscopeBootstrap/oscope_tf.py:222: RuntimeWarning: invalid value encountered in multiply\n",
      "  psi_ng = np.zeros((G, G)) * np.inf\n"
     ]
    },
    {
     "name": "stdout",
     "output_type": "stream",
     "text": [
      "find_best_psi_for_each_gene_pair 2 secs\n",
      "get_permuted_cost 7 secs\n",
      "get_pvalues 0 secs\n",
      "qvalues pi0=0.781, estimated proportion of null features \n"
     ]
    }
   ],
   "source": [
    "adjacency_matrix_true = true_adj_matrix(G, angularSpeed)  # True adjacency matrix\n",
    "n_bootstrap = 100  # number of bootstrap samples\n",
    "alpha = 0.001  # significance level\n",
    "grid_points_in_search = 10  # grid size for phase shift parameter estimation., \n",
    "\n",
    "adjacency_matrix, qvalues, cost_matrix, psi_ng = bootstrap_hypothesis_test(n_bootstrap, data_df.values, alpha=alpha,\n",
    "                                                            grid_points_in_search=grid_points_in_search)\n",
    "correct_ratio = get_accuracy(adjacency_matrix, adjacency_matrix_true)\n",
    "#print(f'Ratio of correctly identified pairs {correct_ratio[i]:.2f}')\n",
    "TPR, FDR, FPR, TP, TN, FP, FN = get_metrics_for_different_qvalue_thresholds2(qvalues, adjacency_matrix_true, np.array([alpha]))\n",
    "TPR, FDR, _ = get_metrics_for_different_qvalue_thresholds(qvalues, adjacency_matrix_true, np.array([alpha]))\n",
    "#print(f'True positive rate {float(TPR:.2f}, False discovery rate {float(FDR):.2f}')\n",
    "   "
   ]
  },
  {
   "cell_type": "code",
   "execution_count": 61,
   "metadata": {},
   "outputs": [
    {
     "name": "stdout",
     "output_type": "stream",
     "text": [
      "Ratio of correctly identified pairs 1.00\n",
      "True positive rate 1.00, False discovery rate 0.03\n"
     ]
    }
   ],
   "source": [
    "    print(f'Ratio of correctly identified pairs {correct_ratio:.2f}')\n",
    "    print(f'True positive rate {float(TPR):.2f}, False discovery rate {float(FDR):.2f}')\n",
    "\n"
   ]
  },
  {
   "cell_type": "code",
   "execution_count": 62,
   "metadata": {
    "scrolled": false
   },
   "outputs": [
    {
     "data": {
      "text/plain": [
       "Text(0.5, 1.0, 'estimated adjacency matrix')"
      ]
     },
     "execution_count": 62,
     "metadata": {},
     "output_type": "execute_result"
    },
    {
     "data": {
      "image/png": "[encoded data removed]",
      "text/plain": [
       "<Figure size 1440x504 with 2 Axes>"
      ]
     },
     "metadata": {
      "needs_background": "light"
     },
     "output_type": "display_data"
    }
   ],
   "source": [
    "_, ax = plt.subplots(1, 2, figsize=(20, 7))\n",
    "ax[0].imshow(adjacency_matrix_true); ax[0].set_title('true adjacency matrix')\n",
    "ax[1].imshow(adjacency_matrix); ax[1].set_title('estimated adjacency matrix')"
   ]
  },
  {
   "cell_type": "code",
   "execution_count": 64,
   "metadata": {},
   "outputs": [
    {
     "name": "stdout",
     "output_type": "stream",
     "text": [
      "Sparseness 0.118182\n",
      "Sparseness 0.118182\n"
     ]
    }
   ],
   "source": [
    "gene_names = data_df.index\n",
    "edge_network = create_edge_network_representation(adjacency_matrix, 1/cost_matrix, gene_names)\n",
    "psi_network = create_edge_network_representation(adjacency_matrix, psi_ng, gene_names)\n",
    "\n",
    "edge_network.to_csv('../Glioblastoma_project/Simulations/3groupsGapCost.csv',index=False)\n",
    "psi_network.to_csv('../Glioblastoma_project/Simulations/3groupsGapPsi.csv',index=False)\n",
    "data_df.to_csv('../Glioblastoma_project/Simulations/3groupsGapData.csv')"
   ]
  },
  {
   "cell_type": "code",
   "execution_count": 163,
   "metadata": {},
   "outputs": [
    {
     "data": {
      "text/plain": [
       "(100, 100)"
      ]
     },
     "execution_count": 163,
     "metadata": {},
     "output_type": "execute_result"
    }
   ],
   "source": [
    "psi_ng.shape\n"
   ]
  },
  {
   "cell_type": "code",
   "execution_count": 167,
   "metadata": {},
   "outputs": [
    {
     "data": {
      "text/html": [
       "<div>\n",
       "<style scoped>\n",
       "    .dataframe tbody tr th:only-of-type {\n",
       "        vertical-align: middle;\n",
       "    }\n",
       "\n",
       "    .dataframe tbody tr th {\n",
       "        vertical-align: top;\n",
       "    }\n",
       "\n",
       "    .dataframe thead th {\n",
       "        text-align: right;\n",
       "    }\n",
       "</style>\n",
       "<table border=\"1\" class=\"dataframe\">\n",
       "  <thead>\n",
       "    <tr style=\"text-align: right;\">\n",
       "      <th></th>\n",
       "      <th>gene1</th>\n",
       "      <th>gene2</th>\n",
       "      <th>weight</th>\n",
       "    </tr>\n",
       "  </thead>\n",
       "  <tbody>\n",
       "    <tr>\n",
       "      <th>0</th>\n",
       "      <td>G1SO0</td>\n",
       "      <td>G1SO1</td>\n",
       "      <td>0.000000</td>\n",
       "    </tr>\n",
       "    <tr>\n",
       "      <th>1</th>\n",
       "      <td>G1SO0</td>\n",
       "      <td>G1SO2</td>\n",
       "      <td>0.000000</td>\n",
       "    </tr>\n",
       "    <tr>\n",
       "      <th>2</th>\n",
       "      <td>G1SO0</td>\n",
       "      <td>G1SO3</td>\n",
       "      <td>0.000000</td>\n",
       "    </tr>\n",
       "    <tr>\n",
       "      <th>3</th>\n",
       "      <td>G1SO0</td>\n",
       "      <td>G1SO4</td>\n",
       "      <td>0.000000</td>\n",
       "    </tr>\n",
       "    <tr>\n",
       "      <th>4</th>\n",
       "      <td>G1SO0</td>\n",
       "      <td>G1SO5</td>\n",
       "      <td>0.000000</td>\n",
       "    </tr>\n",
       "    <tr>\n",
       "      <th>...</th>\n",
       "      <td>...</td>\n",
       "      <td>...</td>\n",
       "      <td>...</td>\n",
       "    </tr>\n",
       "    <tr>\n",
       "      <th>579</th>\n",
       "      <td>R65</td>\n",
       "      <td>R76</td>\n",
       "      <td>1.396263</td>\n",
       "    </tr>\n",
       "    <tr>\n",
       "      <th>580</th>\n",
       "      <td>R74</td>\n",
       "      <td>R90</td>\n",
       "      <td>4.886922</td>\n",
       "    </tr>\n",
       "    <tr>\n",
       "      <th>581</th>\n",
       "      <td>R80</td>\n",
       "      <td>R89</td>\n",
       "      <td>4.886922</td>\n",
       "    </tr>\n",
       "    <tr>\n",
       "      <th>582</th>\n",
       "      <td>R83</td>\n",
       "      <td>R86</td>\n",
       "      <td>4.886922</td>\n",
       "    </tr>\n",
       "    <tr>\n",
       "      <th>583</th>\n",
       "      <td>R87</td>\n",
       "      <td>R91</td>\n",
       "      <td>4.886922</td>\n",
       "    </tr>\n",
       "  </tbody>\n",
       "</table>\n",
       "<p>584 rows × 3 columns</p>\n",
       "</div>"
      ],
      "text/plain": [
       "     gene1  gene2    weight\n",
       "0    G1SO0  G1SO1  0.000000\n",
       "1    G1SO0  G1SO2  0.000000\n",
       "2    G1SO0  G1SO3  0.000000\n",
       "3    G1SO0  G1SO4  0.000000\n",
       "4    G1SO0  G1SO5  0.000000\n",
       "..     ...    ...       ...\n",
       "579    R65    R76  1.396263\n",
       "580    R74    R90  4.886922\n",
       "581    R80    R89  4.886922\n",
       "582    R83    R86  4.886922\n",
       "583    R87    R91  4.886922\n",
       "\n",
       "[584 rows x 3 columns]"
      ]
     },
     "execution_count": 167,
     "metadata": {},
     "output_type": "execute_result"
    }
   ],
   "source": [
    "psi_network"
   ]
  },
  {
   "cell_type": "code",
   "execution_count": null,
   "metadata": {},
   "outputs": [],
   "source": []
  },
  {
   "cell_type": "code",
   "execution_count": null,
   "metadata": {},
   "outputs": [],
   "source": []
  }
 ],
 "metadata": {
  "kernelspec": {
   "display_name": "Python 3",
   "language": "python",
   "name": "python3"
  },
  "language_info": {
   "codemirror_mode": {
    "name": "ipython",
    "version": 3
   },
   "file_extension": ".py",
   "mimetype": "text/x-python",
   "name": "python",
   "nbconvert_exporter": "python",
   "pygments_lexer": "ipython3",
   "version": "3.8.3"
  }
 },
 "nbformat": 4,
 "nbformat_minor": 4
}
