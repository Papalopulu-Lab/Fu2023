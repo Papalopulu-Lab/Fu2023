{
 "cells": [
  {
   "cell_type": "code",
   "execution_count": 6,
   "metadata": {},
   "outputs": [],
   "source": [
    "%matplotlib inline\n",
    "from OscopeBootstrap import qvalue\n",
    "from OscopeBootstrap.create_edge_network_represention import create_edge_network_representation\n",
    "from OscopeBootstrap.SyntheticDataset import GetSimISyntheticData, true_adj_matrix\n",
    "from OscopeBootstrap.oscope_tf import bootstrap_hypothesis_test, get_accuracy, get_metrics_for_different_qvalue_thresholds\n",
    "from matplotlib import pyplot as plt\n",
    "import numpy as np\n",
    "import pandas as pd"
   ]
  },
  {
   "cell_type": "markdown",
   "metadata": {},
   "source": [
    "read data from file and create a pandas data frame"
   ]
  },
  {
   "cell_type": "code",
   "execution_count": 24,
   "metadata": {},
   "outputs": [],
   "source": [
    "#gggg\n",
    "data_df=pd.read_csv('../Glioblastoma_project/Raw_data/firstinput.csv')"
   ]
  },
  {
   "cell_type": "code",
   "execution_count": 26,
   "metadata": {},
   "outputs": [
    {
     "data": {
      "text/plain": [
       "array([[  9,   6,   8, ...,   6,   8,   4],\n",
       "       [ 64,  43,  61, ...,  31,  10,  28],\n",
       "       [ 11,   5,  70, ...,  20,   1,  12],\n",
       "       ...,\n",
       "       [  8,   5,   5, ...,   2,   1,   3],\n",
       "       [  5,  12,  11, ...,   5,   2,   2],\n",
       "       [122,  91, 103, ...,   5,   1,  10]])"
      ]
     },
     "execution_count": 26,
     "metadata": {},
     "output_type": "execute_result"
    }
   ],
   "source": [
    "data_df.values"
   ]
  },
  {
   "cell_type": "code",
   "execution_count": 25,
   "metadata": {},
   "outputs": [
    {
     "data": {
      "text/plain": [
       "numpy.ndarray"
      ]
     },
     "execution_count": 25,
     "metadata": {},
     "output_type": "execute_result"
    }
   ],
   "source": [
    "v=data_df.values[1]\n",
    "#print(data_df.shape)\n",
    "type(v)"
   ]
  },
  {
   "cell_type": "markdown",
   "metadata": {},
   "source": [
    "Call the osconet test to creaye the matrix"
   ]
  },
  {
   "cell_type": "code",
   "execution_count": null,
   "metadata": {},
   "outputs": [
    {
     "name": "stdout",
     "output_type": "stream",
     "text": [
      "Tensor(\"Placeholder:0\", shape=(), dtype=int32) Tensor(\"Placeholder:0\", shape=(), dtype=int32)\n",
      "find_best_psi_for_each_gene_pair 65 secs\n"
     ]
    }
   ],
   "source": [
    "n_bootstrap = 100  # number of bootstrap samples\n",
    "grid_points_in_search = 10  # grid size for phase shift parameter estimation., \n",
    "alpha = 0.001  # significance level\n",
    "adjacency_matrix, qvalues, cost_matrix = bootstrap_hypothesis_test(n_bootstrap, data_df.values, alpha=alpha,\n",
    "                                                            grid_points_in_search=grid_points_in_search)\n"
   ]
  },
  {
   "cell_type": "code",
   "execution_count": null,
   "metadata": {},
   "outputs": [],
   "source": []
  },
  {
   "cell_type": "code",
   "execution_count": null,
   "metadata": {},
   "outputs": [],
   "source": []
  }
 ],
 "metadata": {
  "kernelspec": {
   "display_name": "Python 3",
   "language": "python",
   "name": "python3"
  },
  "language_info": {
   "codemirror_mode": {
    "name": "ipython",
    "version": 3
   },
   "file_extension": ".py",
   "mimetype": "text/x-python",
   "name": "python",
   "nbconvert_exporter": "python",
   "pygments_lexer": "ipython3",
   "version": "3.7.6"
  }
 },
 "nbformat": 4,
 "nbformat_minor": 4
}
