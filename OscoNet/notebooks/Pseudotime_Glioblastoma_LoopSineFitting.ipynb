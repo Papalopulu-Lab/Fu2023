{
 "cells": [
  {
   "cell_type": "markdown",
   "metadata": {},
   "source": [
    "# Pseudotime using spectral embedding"
   ]
  },
  {
   "cell_type": "code",
   "execution_count": null,
   "metadata": {},
   "outputs": [],
   "source": [
    "%matplotlib inline\n",
    "import numpy as np\n",
    "import math\n",
    "import os\n",
    "from numpy.matlib import repmat\n",
    "from matplotlib import pyplot as plt\n",
    "from matplotlib.backends.backend_pdf import PdfPages\n",
    "import pandas as pd\n",
    "from scipy.interpolate import UnivariateSpline\n",
    "from scipy import optimize\n",
    "from OscopeBootstrap.pseudotime import estimate_pseudotime_using_spectral_embedding, calculate_metrics, \\\n",
    "    plot_latent_space, plot_latent_space_notrue, plot_gene_fits, plot_gene_fits_notrue, plot_correspondence_of_peaktime_and_times"
   ]
  },
  {
   "cell_type": "markdown",
   "metadata": {},
   "source": [
    "## Define a test sin function for the fitting"
   ]
  },
  {
   "cell_type": "code",
   "execution_count": null,
   "metadata": {},
   "outputs": [],
   "source": [
    "def test_func(x, dist, a,b,p):\n",
    "    return dist + a * np.sin(p + b*x)"
   ]
  },
  {
   "cell_type": "markdown",
   "metadata": {},
   "source": [
    "## Load data"
   ]
  },
  {
   "cell_type": "code",
   "execution_count": null,
   "metadata": {},
   "outputs": [],
   "source": [
    "case='D8'#D0,D1,D2,D4,D5,D7,D8\n",
    "alpha='0.2'\n",
    "path_to_data = '../Glioblastoma_project/OsconetInput/'\n",
    "path_to_comm = '../Glioblastoma_project/Results_09/'\n",
    "fig_root='../Glioblastoma_project/Plots09/'\n",
    "path_to_fig=f'{fig_root}{case}/'\n",
    "datafile=f'{path_to_data}filter{case}_{alpha}.csv'\n",
    "data=pd.read_csv(datafile,header=0, index_col=0)\n",
    "if not os.path.exists(path_to_fig):\n",
    "    os.makedirs(path_to_fig)\n"
   ]
  },
  {
   "cell_type": "code",
   "execution_count": null,
   "metadata": {},
   "outputs": [],
   "source": [
    "data"
   ]
  },
  {
   "cell_type": "markdown",
   "metadata": {},
   "source": [
    "## load community info"
   ]
  },
  {
   "cell_type": "code",
   "execution_count": null,
   "metadata": {},
   "outputs": [],
   "source": [
    "commDataFile=f'{path_to_comm}{case}_{alpha}Comm.csv'\n",
    "commReportFile=f'{path_to_comm}Report{case}_{alpha}.csv'\n",
    "commData = pd.read_csv(commDataFile,header=0, index_col=1)\n",
    "commData=commData[['CommunityID']]\n",
    "genelist=commData.index.values\n",
    "ncomm=commData.max()\n",
    "commInfo=pd.read_csv(commReportFile,header=0, index_col=1)\n",
    "print(commReportFile)"
   ]
  },
  {
   "cell_type": "code",
   "execution_count": null,
   "metadata": {},
   "outputs": [],
   "source": [
    "commInfo=commInfo.sort_index()\n"
   ]
  },
  {
   "cell_type": "code",
   "execution_count": null,
   "metadata": {},
   "outputs": [],
   "source": [
    "#commInfo"
   ]
  },
  {
   "cell_type": "code",
   "execution_count": null,
   "metadata": {},
   "outputs": [],
   "source": [
    "communities=commInfo.index.values\n",
    "currentCFlag=commInfo.loc[communities==1,'LinFlag']\n",
    "print(currentCFlag.values)\n",
    "#selecting  linear clusters:\n",
    "\n",
    "Linear=commInfo[commInfo.LinFlag==1]\n",
    "LinearId=Linear.index.values\n",
    "#selecting  non linear clusters:\n",
    "print('Linear Communities')\n",
    "print(LinearId)\n",
    "NonLinear=commInfo[commInfo.LinFlag==0]\n",
    "NonLinearId=NonLinear.index.values\n",
    "print('Non Linear Communities')\n",
    "print(NonLinearId)"
   ]
  },
  {
   "cell_type": "code",
   "execution_count": null,
   "metadata": {},
   "outputs": [],
   "source": [
    "filename=case+' missing plots'\n",
    "print(filename)"
   ]
  },
  {
   "cell_type": "markdown",
   "metadata": {},
   "source": [
    "# Get data for the community of interest - Linear Case"
   ]
  },
  {
   "cell_type": "code",
   "execution_count": null,
   "metadata": {},
   "outputs": [],
   "source": [
    "#Start from the linear communities\n",
    "print('LINEAR COMMUNITIES PLOT')\n",
    "filename=f'{path_to_fig}{case}_missing_plots.txt'\n",
    "if os.path.exists(filename):\n",
    "    os.remove(filename)\n",
    "    \n",
    "file_obj=open(filename,'a')\n",
    "file_obj.write(\"LINEAR COMMUNITIES MISSING PLOTS \\n\")\n",
    "for commId in LinearId:\n",
    "    print('Community=')\n",
    "    print(commId)\n",
    "    file_obj.write(f'Community ={commId}')\n",
    "    file_obj.write(\"\\n \")\n",
    "\n",
    "    #commId=LinearId[4]\n",
    "    Flag=\"Linear\"\n",
    "    comm = commData[commData.CommunityID == commId]\n",
    "    #select ONLY the genes in the selected community to use laterin the plot\n",
    "    genelist=comm.index.values\n",
    "    training_data=data.loc[comm.index] \n",
    "    nsamp=training_data.shape[1]\n",
    "    n_neighbors=math.ceil(nsamp/10)\n",
    "    n_neighbors\n",
    "    print('Spectral pseudotime time')\n",
    "    pt_spectral, latent_space_2d = estimate_pseudotime_using_spectral_embedding(training_data.T, n_neighbors)\n",
    "    [fig, ax] = plot_latent_space_notrue(latent_space_2d)\n",
    "    PseudoTimefile=f'{path_to_fig}LinearPseudotime{case}_{alpha}_comm_{commId}.pdf'\n",
    "\n",
    "    pt = PdfPages(PseudoTimefile)\n",
    "    fig.suptitle(\"Community=\"+str(commId) + \", \"+ Flag + ', Neighbours=' +str(n_neighbors))\n",
    "    fig\n",
    "    pt.savefig(fig)\n",
    "\n",
    "    pt.close()\n",
    "    print('Gene plots')\n",
    "    geneplot=genelist \n",
    "    idx=np.argsort(pt_spectral)\n",
    "    figfile=f'{path_to_fig}PlotfilterSin{case}_{alpha}_comm_{commId}.pdf'\n",
    "    pp = PdfPages(figfile)\n",
    "    flag=0\n",
    "    for g in geneplot:\n",
    "        f=plt.figure()\n",
    "        gene_series = data.loc[g][idx]\n",
    "        #params,params_covariance=optimize.curve_fit(testsin_phase,pt_spectral[idx],gene_series,p0=[2,2,0])\n",
    "        try:\n",
    "            params, params_covariance = optimize.curve_fit(test_func, pt_spectral[idx],gene_series, p0=[1, 1, 2, 1])\n",
    "            xtest = np.linspace(np.min(pt_spectral), np.max(pt_spectral), 100)\n",
    "            ts=test_func(xtest,params[0],params[1],params[2],params[3])\n",
    "\n",
    "            residuals=gene_series-test_func(pt_spectral[idx],params[0],params[1],params[2],params[3])\n",
    "\n",
    "            rss=sum(residuals**2)\n",
    "        \n",
    "            #plt spline\n",
    "            plt.plot(xtest, ts, color='m', lw=3);\n",
    "            #plot data\n",
    "            plt.scatter(pt_spectral[idx],gene_series)\n",
    "            plt.title(\"Gene \" + g + \", Com=\"+str(commId) + \", \"+ Flag + ', RSS=' +str(rss) )\n",
    "            pp.savefig(f)\n",
    "        except RuntimeError:\n",
    "            print(\"Error - curve_fit failed Gene \" + g )\n",
    "            file_obj.write(\"curve_fit failed Gene \" + g )\n",
    "            file_obj.write(\"\\n\")\n",
    "            flag=1\n",
    "\n",
    "    pp.close()\n",
    "    if (flag==0):\n",
    "        file_obj.write(\"no failed plots\")\n",
    "        file_obj.write(\"\\n\")\n",
    "    \n",
    "file_obj.close()"
   ]
  },
  {
   "cell_type": "markdown",
   "metadata": {},
   "source": [
    "# Get data for the community of interest - Non Linear Case"
   ]
  },
  {
   "cell_type": "code",
   "execution_count": null,
   "metadata": {},
   "outputs": [],
   "source": [
    "#Start from the linear communities\n",
    "file_obj=open(filename,'a')\n",
    "file_obj.write(\"NON LINEAR COMMUNITIES MISSING PLOTS\\n \")\n",
    "for commId in NonLinearId:\n",
    "    print('Community=')\n",
    "    print(commId)\n",
    "    file_obj.write(f'Community ={commId}')\n",
    "    file_obj.write(\"\\n \")\n",
    "\n",
    "    #commId=NonLinearId[12]\n",
    "    Flag=\"Non Linear\"\n",
    "    comm = commData[commData.CommunityID == commId]\n",
    "    #select ONLY the genes in the selected community to use laterin the plot\n",
    "    genelist=comm.index.values\n",
    "    training_data=data.loc[comm.index]\n",
    "    nsamp=training_data.shape[1]\n",
    "    n_neighbors=math.ceil(nsamp/10)\n",
    "    n_neighbors\n",
    "    pt_spectral, latent_space_2d = estimate_pseudotime_using_spectral_embedding(training_data.T, n_neighbors)\n",
    "    [fig, ax] = plot_latent_space_notrue(latent_space_2d)\n",
    "    PseudoTimefile=f'{path_to_fig}NonLinearPseudotime{case}_{alpha}_comm_{commId}.pdf'\n",
    "    pt = PdfPages(PseudoTimefile)\n",
    "    fig.suptitle(\"Community=\"+str(commId) + \", \"+ Flag + ', Neighbours=' +str(n_neighbors))\n",
    "    fig\n",
    "    pt.savefig(fig)\n",
    "    pt.close()\n",
    "    #Plot genes\n",
    "    geneplot=genelist\n",
    "    idx=np.argsort(pt_spectral)\n",
    "    figfile=f'{path_to_fig}Plotfilter{case}_{alpha}_comm_{commId}.pdf'\n",
    "    pp = PdfPages(figfile)\n",
    "    flag=0\n",
    "\n",
    "    for g in geneplot:\n",
    "\n",
    "        f=plt.figure()\n",
    "        gene_series = data.loc[g][idx]\n",
    "        try:\n",
    "            params, params_covariance = optimize.curve_fit(test_func, pt_spectral[idx],gene_series, p0=[1, 1, 2, 1])\n",
    "            xtest = np.linspace(np.min(pt_spectral), np.max(pt_spectral), 100)\n",
    "            ts=test_func(xtest,params[0],params[1],params[2],params[3])\n",
    "\n",
    "            residuals=gene_series-test_func(pt_spectral[idx],params[0],params[1],params[2],params[3])\n",
    "            rss=sum(residuals**2)\n",
    "        \n",
    "            #plt spline\n",
    "            plt.plot(xtest, ts, color='m', lw=3);\n",
    "            #plot data\n",
    "            plt.scatter(pt_spectral[idx],gene_series)\n",
    "            plt.title(\"Gene \" + g + \", Com=\"+str(commId) + \", \"+ Flag + ', RSS=' +str(rss) )\n",
    "            pp.savefig(f)        \n",
    "        except RuntimeError:\n",
    "            print(\"Error - curve_fit failed Gene \" + g )\n",
    "            file_obj.write(\"curve_fit failed Gene \" + g )     \n",
    "    pp.close()\n",
    "    if (flag==0):\n",
    "        file_obj.write(\"no failed plots\")\n",
    "        file_obj.write(\"\\n\")\n",
    "file_obj.close()\n"
   ]
  },
  {
   "cell_type": "code",
   "execution_count": null,
   "metadata": {},
   "outputs": [],
   "source": []
  }
 ],
 "metadata": {
  "kernelspec": {
   "display_name": "Python 3",
   "language": "python",
   "name": "python3"
  },
  "language_info": {
   "codemirror_mode": {
    "name": "ipython",
    "version": 3
   },
   "file_extension": ".py",
   "mimetype": "text/x-python",
   "name": "python",
   "nbconvert_exporter": "python",
   "pygments_lexer": "ipython3",
   "version": "3.8.3"
  }
 },
 "nbformat": 4,
 "nbformat_minor": 2
}
